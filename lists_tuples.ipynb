{
  "nbformat": 4,
  "nbformat_minor": 0,
  "metadata": {
    "colab": {
      "provenance": [],
      "authorship_tag": "ABX9TyNYr0gW58z8fcqQWaebfzMI",
      "include_colab_link": true
    },
    "kernelspec": {
      "name": "python3",
      "display_name": "Python 3"
    },
    "language_info": {
      "name": "python"
    }
  },
  "cells": [
    {
      "cell_type": "markdown",
      "metadata": {
        "id": "view-in-github",
        "colab_type": "text"
      },
      "source": [
        "<a href=\"https://colab.research.google.com/github/nirvikdahal/Python/blob/main/lists_tuples.ipynb\" target=\"_parent\"><img src=\"https://colab.research.google.com/assets/colab-badge.svg\" alt=\"Open In Colab\"/></a>"
      ]
    },
    {
      "cell_type": "code",
      "execution_count": 6,
      "metadata": {
        "id": "JbvxH4cL1w0Z"
      },
      "outputs": [],
      "source": [
        "#The following code uses a for loop to make a copy of a list:\n",
        "list1 = [1, 2, 3, 4]\n",
        "list2 = []\n",
        "for item in list1:\n",
        "    list2.append(item)"
      ]
    },
    {
      "cell_type": "code",
      "source": [
        "list2"
      ],
      "metadata": {
        "colab": {
          "base_uri": "https://localhost:8080/"
        },
        "id": "qmx-MZ7D3sPj",
        "outputId": "b7d8a09e-c46e-47ba-de0f-d27a1e90ea35"
      },
      "execution_count": 2,
      "outputs": [
        {
          "output_type": "execute_result",
          "data": {
            "text/plain": [
              "[1, 2, 3, 4]"
            ]
          },
          "metadata": {},
          "execution_count": 2
        }
      ]
    },
    {
      "cell_type": "code",
      "source": [
        "#The following code uses a list comprehension to make a copy of a list:\n",
        "list1 = [11, 22, 33, 44]\n",
        "list2 = [item for item in list1]\n",
        "list2\n"
      ],
      "metadata": {
        "colab": {
          "base_uri": "https://localhost:8080/"
        },
        "id": "fvzQwmmr3vqg",
        "outputId": "37bff520-4d8b-4499-a6cd-20af58c632c9"
      },
      "execution_count": 7,
      "outputs": [
        {
          "output_type": "execute_result",
          "data": {
            "text/plain": [
              "[11, 22, 33, 44]"
            ]
          },
          "metadata": {},
          "execution_count": 7
        }
      ]
    },
    {
      "cell_type": "code",
      "source": [
        "#list comprehensions\n",
        "list1 = [10, 20, 30, 40]\n",
        "list2 = [item**2 for item in list1]\n",
        "list2\n"
      ],
      "metadata": {
        "id": "dgFORKGv4OuG"
      },
      "execution_count": 10,
      "outputs": []
    },
    {
      "cell_type": "code",
      "source": [
        "str_list = ['Winken', 'Blinken', 'Nod']\n",
        "len_list = [len(s) for s in str_list]\n",
        "len_list"
      ],
      "metadata": {
        "colab": {
          "base_uri": "https://localhost:8080/"
        },
        "id": "AMfl8K6-4rOB",
        "outputId": "2b3714d5-ba32-423e-8b33-d6c8ac5f707e"
      },
      "execution_count": 12,
      "outputs": [
        {
          "output_type": "execute_result",
          "data": {
            "text/plain": [
              "[6, 7, 3]"
            ]
          },
          "metadata": {},
          "execution_count": 12
        }
      ]
    },
    {
      "cell_type": "code",
      "source": [
        "#You can use an if clause in a list comprehension to select only certain elements when processing a list\n",
        "list1 = [1, 12, 2, 20, 3, 15, 4]\n",
        "list3 = []\n",
        "for n in list1:\n",
        "    if n < 19:\n",
        "        list3.append(n)\n",
        "list3\n"
      ],
      "metadata": {
        "colab": {
          "base_uri": "https://localhost:8080/"
        },
        "id": "vE9byLRR43EH",
        "outputId": "fccb033e-da5e-4333-c8e1-21c99f51089c"
      },
      "execution_count": 19,
      "outputs": [
        {
          "output_type": "execute_result",
          "data": {
            "text/plain": [
              "[1, 12, 2, 3, 15, 4]"
            ]
          },
          "metadata": {},
          "execution_count": 19
        }
      ]
    },
    {
      "cell_type": "code",
      "source": [
        "list1 = [1, 12, 2, 20, 3, 15, 4]\n",
        "list4 = [item for item in list1 if item < 14]\n",
        "list4"
      ],
      "metadata": {
        "colab": {
          "base_uri": "https://localhost:8080/"
        },
        "id": "vN8mrir55vSJ",
        "outputId": "265404b2-79fd-4993-a899-beaac56965ee"
      },
      "execution_count": 20,
      "outputs": [
        {
          "output_type": "execute_result",
          "data": {
            "text/plain": [
              "[1, 12, 2, 3, 4]"
            ]
          },
          "metadata": {},
          "execution_count": 20
        }
      ]
    },
    {
      "cell_type": "code",
      "source": [
        "list1 = [1, 12, 2, 20, 3, 15, 4]\n",
        "list5 = [item for item in list1 if item < 10]\n",
        "list5"
      ],
      "metadata": {
        "colab": {
          "base_uri": "https://localhost:8080/"
        },
        "id": "6fmY1aIC56Ed",
        "outputId": "941fb634-1ce7-437d-d32c-07e8a5593969"
      },
      "execution_count": 21,
      "outputs": [
        {
          "output_type": "execute_result",
          "data": {
            "text/plain": [
              "[1, 2, 3, 4]"
            ]
          },
          "metadata": {},
          "execution_count": 21
        }
      ]
    },
    {
      "cell_type": "code",
      "source": [],
      "metadata": {
        "id": "lgQ_5eEw6ODH"
      },
      "execution_count": null,
      "outputs": []
    }
  ]
}