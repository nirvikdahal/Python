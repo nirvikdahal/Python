{
  "nbformat": 4,
  "nbformat_minor": 0,
  "metadata": {
    "colab": {
      "provenance": [],
      "authorship_tag": "ABX9TyOwnck7xslnygvejDQJHFWg",
      "include_colab_link": true
    },
    "kernelspec": {
      "name": "python3",
      "display_name": "Python 3"
    },
    "language_info": {
      "name": "python"
    }
  },
  "cells": [
    {
      "cell_type": "markdown",
      "metadata": {
        "id": "view-in-github",
        "colab_type": "text"
      },
      "source": [
        "<a href=\"https://colab.research.google.com/github/nirvikdahal/Python/blob/main/Copy_of_Disctionary.ipynb\" target=\"_parent\"><img src=\"https://colab.research.google.com/assets/colab-badge.svg\" alt=\"Open In Colab\"/></a>"
      ]
    },
    {
      "cell_type": "code",
      "execution_count": null,
      "metadata": {
        "colab": {
          "base_uri": "https://localhost:8080/"
        },
        "id": "gbeIh2aDk1Zs",
        "outputId": "6d2ac16c-0773-4cf5-8c1c-88a02cfbe18e"
      },
      "outputs": [
        {
          "output_type": "execute_result",
          "data": {
            "text/plain": [
              "{1: 1, 2: 8, 3: 27, 4: 64}"
            ]
          },
          "metadata": {},
          "execution_count": 73
        }
      ],
      "source": [
        "#CREATING A DISCTIONARY WITH KEYS 1,2,3,4 AND ASSIGNING VALUES EQUAL TO SQAURE OF THE KEYS\n",
        "numbers = [1, 2, 3, 4]\n",
        "squares1 = {}\n",
        "for item in numbers:\n",
        "  squares1[item] = item**3\n",
        "squares1\n"
      ]
    },
    {
      "cell_type": "code",
      "source": [
        "#clear:Clears the contents of a dictionary.\n",
        "squares1.clear()"
      ],
      "metadata": {
        "id": "66rZjxh9p5_b"
      },
      "execution_count": null,
      "outputs": []
    },
    {
      "cell_type": "code",
      "source": [
        "squares1"
      ],
      "metadata": {
        "colab": {
          "base_uri": "https://localhost:8080/"
        },
        "id": "zMlc5paWqMbr",
        "outputId": "e18a6a84-09b1-4810-e359-33e422421b3a"
      },
      "execution_count": null,
      "outputs": [
        {
          "output_type": "execute_result",
          "data": {
            "text/plain": [
              "{}"
            ]
          },
          "metadata": {},
          "execution_count": 39
        }
      ]
    },
    {
      "cell_type": "code",
      "source": [
        "#get:Gets the value associated with a specified key.\n",
        "#If the key is not found, the method does not raise an exception.\n",
        "#Instead, it returns a default value.\n",
        "squares1.get(10,10)"
      ],
      "metadata": {
        "colab": {
          "base_uri": "https://localhost:8080/"
        },
        "id": "cI_QWQWFqVdy",
        "outputId": "f59b67a9-aa4a-46bd-f925-9d7c38fe9e7f"
      },
      "execution_count": null,
      "outputs": [
        {
          "output_type": "execute_result",
          "data": {
            "text/plain": [
              "10"
            ]
          },
          "metadata": {},
          "execution_count": 51
        }
      ]
    },
    {
      "cell_type": "code",
      "source": [
        "#items:Returns all the keys in a dictionary and their associated values as a sequence of tuples.\n",
        "squares1.items()"
      ],
      "metadata": {
        "colab": {
          "base_uri": "https://localhost:8080/"
        },
        "id": "DrHYNj1_rCM5",
        "outputId": "dfcfd33e-ebca-4016-b7b7-4f7ba4bcd380"
      },
      "execution_count": null,
      "outputs": [
        {
          "output_type": "execute_result",
          "data": {
            "text/plain": [
              "dict_items([(1, 1), (2, 8), (3, 27), (4, 64)])"
            ]
          },
          "metadata": {},
          "execution_count": 50
        }
      ]
    },
    {
      "cell_type": "code",
      "source": [
        "#pop:Returns the value associated with a specified key and removes that key-value pair from the dictionary.\n",
        "#If the key is not found, the method returns a default value.\n",
        "\n",
        "squares1.pop(3,2)"
      ],
      "metadata": {
        "colab": {
          "base_uri": "https://localhost:8080/"
        },
        "id": "YGO-JCcireP-",
        "outputId": "1cd3edf4-9689-4b0a-dcd7-5ab49eaad730"
      },
      "execution_count": null,
      "outputs": [
        {
          "output_type": "execute_result",
          "data": {
            "text/plain": [
              "27"
            ]
          },
          "metadata": {},
          "execution_count": 70
        }
      ]
    },
    {
      "cell_type": "code",
      "source": [
        "#popitem:Returns, as a tuple, the key-value pair that was last added to the dictionary.\n",
        "#The method also removes the key-value pair from the dictionary.\n",
        "\n",
        "squares1.popitem()"
      ],
      "metadata": {
        "colab": {
          "base_uri": "https://localhost:8080/"
        },
        "id": "B2icKEnbsdx5",
        "outputId": "268c078f-e8af-44db-ee30-057501d36316"
      },
      "execution_count": null,
      "outputs": [
        {
          "output_type": "execute_result",
          "data": {
            "text/plain": [
              "(4, 64)"
            ]
          },
          "metadata": {},
          "execution_count": 71
        }
      ]
    },
    {
      "cell_type": "code",
      "source": [
        "#values:Returns all the values in the dictionary as a sequence of tuples.\n",
        "squares1.values()"
      ],
      "metadata": {
        "colab": {
          "base_uri": "https://localhost:8080/"
        },
        "id": "U7PbyR9pss3i",
        "outputId": "4cc37b5f-c783-41a8-f663-06e4701a5bf3"
      },
      "execution_count": null,
      "outputs": [
        {
          "output_type": "execute_result",
          "data": {
            "text/plain": [
              "dict_values([1, 8, 27, 64])"
            ]
          },
          "metadata": {},
          "execution_count": 74
        }
      ]
    },
    {
      "cell_type": "code",
      "source": [
        "#CREATING DISCTIOANRY USING ITERATION WITH FOR\n",
        "numbers = [5,4,3,2,1]\n",
        "squares2 = {item:item**3 for item in numbers}\n",
        "squares2\n"
      ],
      "metadata": {
        "colab": {
          "base_uri": "https://localhost:8080/"
        },
        "id": "z2rQ9T7ulHTW",
        "outputId": "b4247df5-bb86-49e7-997c-f68ef86998fb"
      },
      "execution_count": null,
      "outputs": [
        {
          "output_type": "execute_result",
          "data": {
            "text/plain": [
              "{5: 125, 4: 64, 3: 27, 2: 8, 1: 1}"
            ]
          },
          "metadata": {},
          "execution_count": 23
        }
      ]
    },
    {
      "cell_type": "code",
      "source": [
        "square3 = squares1 | squares2\n",
        "square3"
      ],
      "metadata": {
        "colab": {
          "base_uri": "https://localhost:8080/"
        },
        "id": "yDt5R6EFn5ek",
        "outputId": "c1f56cd1-8f81-4864-81c6-3fed07c91797"
      },
      "execution_count": null,
      "outputs": [
        {
          "output_type": "execute_result",
          "data": {
            "text/plain": [
              "{1: 1, 2: 8, 3: 27, 4: 64, 5: 125}"
            ]
          },
          "metadata": {},
          "execution_count": 18
        }
      ]
    },
    {
      "cell_type": "code",
      "source": [
        "square4 = squares2 |= squares1\n",
        "square4"
      ],
      "metadata": {
        "colab": {
          "base_uri": "https://localhost:8080/",
          "height": 106
        },
        "id": "Jkg6ACqiosOk",
        "outputId": "f2ee425a-4541-4d4b-dfca-eda7205473e1"
      },
      "execution_count": null,
      "outputs": [
        {
          "output_type": "error",
          "ename": "SyntaxError",
          "evalue": "invalid syntax (<ipython-input-32-32fd979e9e7c>, line 1)",
          "traceback": [
            "\u001b[0;36m  File \u001b[0;32m\"<ipython-input-32-32fd979e9e7c>\"\u001b[0;36m, line \u001b[0;32m1\u001b[0m\n\u001b[0;31m    square4 = squares2 |= squares1\u001b[0m\n\u001b[0m                       ^\u001b[0m\n\u001b[0;31mSyntaxError\u001b[0m\u001b[0;31m:\u001b[0m invalid syntax\n"
          ]
        }
      ]
    },
    {
      "cell_type": "code",
      "source": [
        "#USE LEN TO FIND THE LENGTH OF THE STRING\n",
        "names = ['Jeremy', 'Kate', 'Peg']\n",
        "str_lengths = {item:len(item) for item in names}\n",
        "str_lengths"
      ],
      "metadata": {
        "colab": {
          "base_uri": "https://localhost:8080/"
        },
        "id": "zrH7j_wplvfe",
        "outputId": "66cb806b-7324-4870-87bb-011fb07a947b"
      },
      "execution_count": null,
      "outputs": [
        {
          "output_type": "execute_result",
          "data": {
            "text/plain": [
              "{'Jeremy': 6, 'Kate': 4, 'Peg': 3}"
            ]
          },
          "metadata": {},
          "execution_count": 3
        }
      ]
    },
    {
      "cell_type": "code",
      "source": [
        "#MAKING A COPY OF THE DICTIONARY\n",
        "dict1 = {'A':1, 'B':2, 'C':3}\n",
        "dict2 = {k:v for k,v in dict1.items()}\n",
        "dict2"
      ],
      "metadata": {
        "colab": {
          "base_uri": "https://localhost:8080/"
        },
        "id": "l_2Sd5sZl4Vn",
        "outputId": "824af83b-ae12-46be-c845-fde3be3c3b20"
      },
      "execution_count": null,
      "outputs": [
        {
          "output_type": "execute_result",
          "data": {
            "text/plain": [
              "{'A': 1, 'B': 2, 'C': 3}"
            ]
          },
          "metadata": {},
          "execution_count": 4
        }
      ]
    },
    {
      "cell_type": "code",
      "source": [
        "#Example: A dictionary contains cities and their populations as key-value pairs.\n",
        "#Select only the cities with a population greater than 2 million\n",
        "populations = {'New York': 8398748, 'Los Angeles': 3990456,\n",
        "              'Chicago': 2705994, 'Houston': 2325502,\n",
        "               'Phoenix': 1660272, 'Philadelphia': 1584138}\n",
        "largest = {k:v for k,v in populations.items() if v > 2000000}\n",
        "largest\n",
        "\n"
      ],
      "metadata": {
        "colab": {
          "base_uri": "https://localhost:8080/"
        },
        "id": "GCY28C7evikE",
        "outputId": "e4913023-24a8-4b56-a680-08c8012be101"
      },
      "execution_count": 1,
      "outputs": [
        {
          "output_type": "execute_result",
          "data": {
            "text/plain": [
              "{'New York': 8398748,\n",
              " 'Los Angeles': 3990456,\n",
              " 'Chicago': 2705994,\n",
              " 'Houston': 2325502}"
            ]
          },
          "metadata": {},
          "execution_count": 1
        }
      ]
    }
  ]
}